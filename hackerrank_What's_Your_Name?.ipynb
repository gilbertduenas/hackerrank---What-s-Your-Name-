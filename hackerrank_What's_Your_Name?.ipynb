{
  "nbformat": 4,
  "nbformat_minor": 0,
  "metadata": {
    "colab": {
      "name": "hackerrank - What's Your Name?",
      "provenance": [],
      "collapsed_sections": [],
      "authorship_tag": "ABX9TyPhfArkQimsZ5rbgQ/QB0Ra",
      "include_colab_link": true
    },
    "kernelspec": {
      "name": "python3",
      "display_name": "Python 3"
    }
  },
  "cells": [
    {
      "cell_type": "markdown",
      "metadata": {
        "id": "view-in-github",
        "colab_type": "text"
      },
      "source": [
        "<a href=\"https://colab.research.google.com/github/gilbertduenas/hackerrank---What-s-Your-Name-/blob/master/hackerrank_What's_Your_Name%3F.ipynb\" target=\"_parent\"><img src=\"https://colab.research.google.com/assets/colab-badge.svg\" alt=\"Open In Colab\"/></a>"
      ]
    },
    {
      "cell_type": "markdown",
      "metadata": {
        "id": "vxhLDmAxlbhn",
        "colab_type": "text"
      },
      "source": [
        "https://www.hackerrank.com/challenges/whats-your-name/problem"
      ]
    },
    {
      "cell_type": "code",
      "metadata": {
        "id": "lsfU332glVlm",
        "colab_type": "code",
        "colab": {}
      },
      "source": [
        "def print_full_name(a, b):\n",
        "    print(f'Hello {a} {b}! You just delved into python.')\n",
        "\n",
        "if __name__ == '__main__':\n",
        "    first_name = input()\n",
        "    last_name = input()\n",
        "    print_full_name(first_name, last_name)"
      ],
      "execution_count": null,
      "outputs": []
    }
  ]
}